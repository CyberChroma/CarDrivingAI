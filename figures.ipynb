{
 "cells": [
  {
   "cell_type": "code",
   "execution_count": null,
   "metadata": {},
   "outputs": [],
   "source": [
    "import os\n",
    "import csv\n",
    "import matplotlib.pyplot as plt\n",
    "import numpy as np"
   ]
  },
  {
   "cell_type": "code",
   "execution_count": null,
   "metadata": {},
   "outputs": [],
   "source": [
    "pwd = os.getcwd()"
   ]
  },
  {
   "cell_type": "code",
   "execution_count": null,
   "metadata": {},
   "outputs": [],
   "source": [
    "def readFile(filename):\n",
    "    with open(filename, 'r') as f:\n",
    "        reader = csv.reader(f)\n",
    "        data = list(reader)\n",
    "    return data\n",
    "\n",
    "times = readFile(pwd + '/multiprocess_compression/times.csv')\n",
    "bestFitnesses = readFile(pwd + '/multiprocess_compression/bestFitnesses.csv')\n",
    "averageFitnesses = readFile(pwd + '/multiprocess_compression/averageFitnesses.csv')\n",
    "\n",
    "generations = len(times)"
   ]
  },
  {
   "cell_type": "code",
   "execution_count": null,
   "metadata": {},
   "outputs": [],
   "source": [
    "x = np.arange(generations)\n",
    "y1 = np.squeeze(np.array(bestFitnesses))\n",
    "y2 = np.squeeze(np.array(averageFitnesses))\n",
    "\n",
    "x = x[:1000]\n",
    "y1 = y1[:1000]\n",
    "y2 = y2[:1000]\n",
    "\n",
    "# convert strings to floats\n",
    "y1 = [float(i) for i in y1]\n",
    "y2 = [float(i) for i in y2]\n",
    "\n",
    "# round the values\n",
    "y1 = np.around(y1)\n",
    "y2 = np.around(y2)\n",
    "\n",
    "plt.xlabel('Generations')\n",
    "plt.ylabel('Fitness')\n",
    "plt.title('Best and Average Fitnesses')\n",
    "plt.scatter(x, y1, label='Best Fitness', s=5)\n",
    "plt.scatter(x, y2, label='Average Fitness', s=5)\n",
    "plt.legend()\n",
    "plt.show()\n"
   ]
  }
 ],
 "metadata": {
  "interpreter": {
   "hash": "aee8b7b246df8f9039afb4144a1f6fd8d2ca17a180786b69acc140d282b71a49"
  },
  "kernelspec": {
   "display_name": "Python 3.9.7 64-bit",
   "language": "python",
   "name": "python3"
  },
  "language_info": {
   "codemirror_mode": {
    "name": "ipython",
    "version": 3
   },
   "file_extension": ".py",
   "mimetype": "text/x-python",
   "name": "python",
   "nbconvert_exporter": "python",
   "pygments_lexer": "ipython3",
   "version": "3.9.7"
  },
  "orig_nbformat": 4
 },
 "nbformat": 4,
 "nbformat_minor": 2
}
