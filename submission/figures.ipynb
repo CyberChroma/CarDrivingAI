{
 "cells": [
  {
   "cell_type": "code",
   "execution_count": null,
   "metadata": {},
   "outputs": [],
   "source": [
    "import os\n",
    "import csv\n",
    "import matplotlib.pyplot as plt\n",
    "import numpy as np"
   ]
  },
  {
   "cell_type": "code",
   "execution_count": null,
   "metadata": {},
   "outputs": [],
   "source": [
    "pwd = os.getcwd()"
   ]
  },
  {
   "cell_type": "code",
   "execution_count": null,
   "metadata": {},
   "outputs": [],
   "source": [
    "def readFile(filename):\n",
    "    with open(filename, 'r') as f:\n",
    "        reader = csv.reader(f)\n",
    "        \n",
    "        data = list(reader)\n",
    "    return data\n",
    "\n",
    "times = readFile(pwd + '/multiprocess_compression/times.csv')\n",
    "bestFitnesses = readFile(pwd + '/multiprocess_compression/bestFitnesses.csv')\n",
    "averageFitnesses = readFile(pwd + '/multiprocess_compression/averageFitnesses.csv')\n",
    "\n",
    "generations = len(times)"
   ]
  },
  {
   "cell_type": "code",
   "execution_count": null,
   "metadata": {},
   "outputs": [],
   "source": [
    "x = np.arange(generations)\n",
    "y1 = np.squeeze(np.array(bestFitnesses))\n",
    "y2 = np.squeeze(np.array(averageFitnesses))\n",
    "\n",
    "x = x[:1000]\n",
    "y1 = y1[:1000]\n",
    "y2 = y2[:1000]\n",
    "\n",
    "# convert strings to floats\n",
    "y1 = [float(i) for i in y1]\n",
    "y2 = [float(i) for i in y2]\n",
    "\n",
    "# round the values\n",
    "y1 = np.around(y1)\n",
    "y2 = np.around(y2)\n",
    "\n",
    "plt.xlabel('Generations')\n",
    "plt.ylabel('Fitness')\n",
    "plt.title('Best and Average Fitnesses')\n",
    "plt.scatter(x, y1, label='Best Fitness', s=5)\n",
    "plt.scatter(x, y2, label='Average Fitness', s=5)\n",
    "plt.legend()\n",
    "plt.show()\n"
   ]
  },
  {
   "cell_type": "code",
   "execution_count": 21,
   "metadata": {},
   "outputs": [
    {
     "name": "stdout",
     "output_type": "stream",
     "text": [
      "Time for multiprocess compression: 17877.943645000458\n",
      "Time for multiprocess canny: 35969.581916332245\n",
      "Compression:  3794.3532044887543 , Canny:  3673.7663753032684\n"
     ]
    },
    {
     "name": "stderr",
     "output_type": "stream",
     "text": [
      "/var/folders/52/5091w1r930g9w0_wjzwgjgtw0000gn/T/ipykernel_3041/4211303726.py:8: VisibleDeprecationWarning: Creating an ndarray from ragged nested sequences (which is a list-or-tuple of lists-or-tuples-or ndarrays with different lengths or shapes) is deprecated. If you meant to do this, you must specify 'dtype=object' when creating the ndarray.\n",
      "  times3 = np.squeeze(np.array(times3))\n",
      "/var/folders/52/5091w1r930g9w0_wjzwgjgtw0000gn/T/ipykernel_3041/4211303726.py:9: VisibleDeprecationWarning: Creating an ndarray from ragged nested sequences (which is a list-or-tuple of lists-or-tuples-or ndarrays with different lengths or shapes) is deprecated. If you meant to do this, you must specify 'dtype=object' when creating the ndarray.\n",
      "  times4 = np.squeeze(np.array(times4))\n"
     ]
    },
    {
     "data": {
      "image/png": "[encoded data removed]",
      "text/plain": [
       "<Figure size 432x288 with 1 Axes>"
      ]
     },
     "metadata": {
      "needs_background": "light"
     },
     "output_type": "display_data"
    }
   ],
   "source": [
    "times1 = readFile(pwd + '/multiprocess_compression/times.csv')\n",
    "times2 = readFile(pwd + '/multiprocess_canny/times.csv')\n",
    "times3 = readFile(pwd + '/singleprocess_compression/times.csv')\n",
    "times4 = readFile(pwd + '/singleprocess_canny/times.csv')\n",
    "\n",
    "times1 = np.squeeze(np.array(times1))\n",
    "times2 = np.squeeze(np.array(times2))\n",
    "times3 = np.squeeze(np.array(times3))\n",
    "times4 = np.squeeze(np.array(times4))\n",
    "\n",
    "times1 = [float(i) for i in times1]\n",
    "times2 = [float(i) for i in times2]\n",
    "\n",
    "time_canny = sum(times2[:1000])\n",
    "time_compression = sum(times1[:500])\n",
    "print(\"Time for multiprocess compression: \" + str(time_compression))\n",
    "print(\"Time for multiprocess canny: \" + str(time_canny))\n",
    "\n",
    "times1 = times1[:100]\n",
    "times2 = times2[:100]\n",
    "times3 = times3[:100]\n",
    "times4 = times4[:100]\n",
    "\n",
    "\n",
    "# times3 = [float(i) for i in times3]\n",
    "# times4 = [float(i) for i in times4]\n",
    "\n",
    "sum1 = sum(times1)\n",
    "sum2 = sum(times2)\n",
    "sum3 = 33891.55 / 4\n",
    "sum4 = 34150.53 / 4\n",
    "\n",
    "print(\"Compression: \", sum1, \", Canny: \", sum2)\n",
    "\n",
    "labels = ['Canny (MP)', 'Compression (MP)', 'Canny (SP)', 'Compression (SP)']\n",
    "times = [sum2, sum1, sum4, sum3]\n",
    "\n",
    "barList = plt.bar(labels, times)\n",
    "barList[0].set_color('g')\n",
    "barList[1].set_color('g')\n",
    "barList[2].set_color('r')\n",
    "barList[3].set_color('r')\n",
    "plt.xlabel('Algorithms')\n",
    "plt.ylabel('Time (s)')\n",
    "plt.title('Time Taken')\n",
    "plt.show()\n"
   ]
  }
 ],
 "metadata": {
  "interpreter": {
   "hash": "aee8b7b246df8f9039afb4144a1f6fd8d2ca17a180786b69acc140d282b71a49"
  },
  "kernelspec": {
   "display_name": "Python 3.9.7 64-bit",
   "language": "python",
   "name": "python3"
  },
  "language_info": {
   "codemirror_mode": {
    "name": "ipython",
    "version": 3
   },
   "file_extension": ".py",
   "mimetype": "text/x-python",
   "name": "python",
   "nbconvert_exporter": "python",
   "pygments_lexer": "ipython3",
   "version": "3.9.7"
  },
  "orig_nbformat": 4
 },
 "nbformat": 4,
 "nbformat_minor": 2
}
